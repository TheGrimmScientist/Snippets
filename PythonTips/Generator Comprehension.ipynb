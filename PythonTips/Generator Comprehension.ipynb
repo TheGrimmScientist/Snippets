{
 "cells": [
  {
   "cell_type": "markdown",
   "metadata": {},
   "source": [
    "### Generator Comprehension\n",
    "\n",
    "Using `()` instead of `[]` for comprehensions tells python to use a generator rather than to create a list.  This can be very useful if the full list is not needed and is also expensive to compile due to some combination of the list being long, each object being big, or the conditional is expensive to compute.  \n",
    "\n",
    "My main use case at the time of writing this is when I want a single object from a group of objects subject subject to some conditional.  I expect many objects to satisfy the condiditonal, but only need one."
   ]
  },
  {
   "cell_type": "code",
   "execution_count": 29,
   "metadata": {
    "collapsed": false
   },
   "outputs": [],
   "source": [
    "short_list = range(10)"
   ]
  },
  {
   "cell_type": "code",
   "execution_count": 30,
   "metadata": {
    "collapsed": false
   },
   "outputs": [
    {
     "name": "stdout",
     "output_type": "stream",
     "text": [
      "1000000 loops, best of 3: 601 ns per loop\n"
     ]
    }
   ],
   "source": [
    "%%timeit\n",
    "y = [x for x in short_list if x > 5][0]"
   ]
  },
  {
   "cell_type": "code",
   "execution_count": 31,
   "metadata": {
    "collapsed": false
   },
   "outputs": [
    {
     "name": "stdout",
     "output_type": "stream",
     "text": [
      "The slowest run took 8.64 times longer than the fastest. This could mean that an intermediate result is being cached \n",
      "1000000 loops, best of 3: 910 ns per loop\n"
     ]
    }
   ],
   "source": [
    "%%timeit\n",
    "y = (x for x in short_list if x > 5).next()"
   ]
  },
  {
   "cell_type": "code",
   "execution_count": 32,
   "metadata": {
    "collapsed": true
   },
   "outputs": [],
   "source": [
    "long_list = range(100000)"
   ]
  },
  {
   "cell_type": "code",
   "execution_count": 33,
   "metadata": {
    "collapsed": false
   },
   "outputs": [
    {
     "name": "stdout",
     "output_type": "stream",
     "text": [
      "100 loops, best of 3: 6.35 ms per loop\n"
     ]
    }
   ],
   "source": [
    "%%timeit\n",
    "y = [x for x in long_list if x > 5][0]"
   ]
  },
  {
   "cell_type": "code",
   "execution_count": 34,
   "metadata": {
    "collapsed": false
   },
   "outputs": [
    {
     "name": "stdout",
     "output_type": "stream",
     "text": [
      "The slowest run took 7.69 times longer than the fastest. This could mean that an intermediate result is being cached \n",
      "1000000 loops, best of 3: 931 ns per loop\n"
     ]
    }
   ],
   "source": [
    "%%timeit\n",
    "y = (x for x in long_list if x > 5).next()"
   ]
  }
 ],
 "metadata": {
  "kernelspec": {
   "display_name": "Python 2",
   "language": "python",
   "name": "python2"
  },
  "language_info": {
   "codemirror_mode": {
    "name": "ipython",
    "version": 2
   },
   "file_extension": ".py",
   "mimetype": "text/x-python",
   "name": "python",
   "nbconvert_exporter": "python",
   "pygments_lexer": "ipython2",
   "version": "2.7.10"
  }
 },
 "nbformat": 4,
 "nbformat_minor": 0
}
