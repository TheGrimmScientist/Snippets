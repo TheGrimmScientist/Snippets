{
 "metadata": {
  "name": "",
  "signature": "sha256:bb08b2c74a0c942f590262d77bd72ab5fcb05347492e635b5b5ac251f77f8db9"
 },
 "nbformat": 3,
 "nbformat_minor": 0,
 "worksheets": [
  {
   "cells": [
    {
     "cell_type": "code",
     "collapsed": false,
     "input": [
      "%pylab inline\n",
      "import sklearn"
     ],
     "language": "python",
     "metadata": {},
     "outputs": [
      {
       "output_type": "stream",
       "stream": "stdout",
       "text": [
        "Populating the interactive namespace from numpy and matplotlib\n"
       ]
      }
     ],
     "prompt_number": 1
    },
    {
     "cell_type": "code",
     "collapsed": false,
     "input": [
      "# generate data\n",
      "from sklearn.datasets.samples_generator import make_blobs\n",
      "data = make_blobs(n_samples=100, n_features=2, centers=3,cluster_std=2.5)[0]\n"
     ],
     "language": "python",
     "metadata": {},
     "outputs": [],
     "prompt_number": 2
    },
    {
     "cell_type": "code",
     "collapsed": false,
     "input": [
      "# compute centers\n",
      "from sklearn.cluster import KMeans\n",
      "km = KMeans(n_clusters=3)\n",
      "km.fit(data)\n",
      "[center_1, center_2, center_3] = km.cluster_centers_"
     ],
     "language": "python",
     "metadata": {},
     "outputs": [],
     "prompt_number": 3
    },
    {
     "cell_type": "code",
     "collapsed": false,
     "input": [
      "# compute distance from each data point to closest center:\n",
      "distance = [(min(distances),i) for i,distances in enumerate(km.transform(data))] \n",
      "\n",
      "# pick the top 10 outliers\n",
      "indices_of_outliers = [row[1] for row in sorted(distance, key=lambda row: row[0], reverse=True)[:10]]"
     ],
     "language": "python",
     "metadata": {},
     "outputs": [],
     "prompt_number": 4
    },
    {
     "cell_type": "code",
     "collapsed": false,
     "input": [
      "figure(1,figsize=(10,6))\n",
      "plot([row[0] for row in data],[row[1] for row in data],'b.')\n",
      "plot(center_1[0],center_1[1], 'g*',ms=15)\n",
      "plot(center_2[0],center_2[1], 'g*',ms=15)\n",
      "plot(center_3[0],center_3[1], 'g*',ms=15)\n",
      "\n",
      "# mark outliers by drawing a circle on top of the already-present point:\n",
      "# plot([row[0] for row in data],[row[1] for row in data],'ro')\n",
      "for i in indices_of_outliers:\n",
      "    [x,y] = data[i]\n",
      "    plot(x,y,'ro')"
     ],
     "language": "python",
     "metadata": {},
     "outputs": [
      {
       "metadata": {},
       "output_type": "display_data",
       "png": "[encoded data removed]",
       "text": [
        "<matplotlib.figure.Figure at 0x7f8cd418c110>"
       ]
      }
     ],
     "prompt_number": 5
    }
   ],
   "metadata": {}
  }
 ]
}